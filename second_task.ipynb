{
 "cells": [
  {
   "cell_type": "code",
   "execution_count": 1,
   "metadata": {},
   "outputs": [],
   "source": [
    "import pandas as pd\n",
    "import numpy as np\n",
    "import matplotlib.pyplot as plt\n",
    "from sklearn.neighbors import KNeighborsRegressor\n",
    "from sklearn.linear_model import LinearRegression, LogisticRegression\n",
    "from sklearn.svm import SVR\n",
    "from sklearn.ensemble import RandomForestRegressor\n",
    "from sklearn.metrics import r2_score"
   ]
  },
  {
   "cell_type": "code",
   "execution_count": 10,
   "metadata": {},
   "outputs": [],
   "source": [
    "import seaborn as sns"
   ]
  },
  {
   "cell_type": "code",
   "execution_count": 2,
   "metadata": {},
   "outputs": [],
   "source": [
    "from sklearn.model_selection import cross_val_score"
   ]
  },
  {
   "cell_type": "code",
   "execution_count": 3,
   "metadata": {},
   "outputs": [],
   "source": [
    "from sklearn.model_selection import train_test_split"
   ]
  },
  {
   "cell_type": "code",
   "execution_count": 4,
   "metadata": {},
   "outputs": [],
   "source": [
    "train = pd.read_csv('train.csv')"
   ]
  },
  {
   "cell_type": "code",
   "execution_count": 5,
   "metadata": {},
   "outputs": [],
   "source": [
    "f_train = pd.read_csv('formula_train.csv')"
   ]
  },
  {
   "cell_type": "code",
   "execution_count": 48,
   "metadata": {},
   "outputs": [
    {
     "data": {
      "text/html": [
       "<div>\n",
       "<style scoped>\n",
       "    .dataframe tbody tr th:only-of-type {\n",
       "        vertical-align: middle;\n",
       "    }\n",
       "\n",
       "    .dataframe tbody tr th {\n",
       "        vertical-align: top;\n",
       "    }\n",
       "\n",
       "    .dataframe thead th {\n",
       "        text-align: right;\n",
       "    }\n",
       "</style>\n",
       "<table border=\"1\" class=\"dataframe\">\n",
       "  <thead>\n",
       "    <tr style=\"text-align: right;\">\n",
       "      <th></th>\n",
       "      <th>feature1</th>\n",
       "      <th>feature2</th>\n",
       "      <th>feature3</th>\n",
       "      <th>feature4</th>\n",
       "      <th>feature5</th>\n",
       "      <th>feature6</th>\n",
       "      <th>feature7</th>\n",
       "      <th>feature8</th>\n",
       "      <th>feature9</th>\n",
       "      <th>feature10</th>\n",
       "      <th>...</th>\n",
       "      <th>feature73</th>\n",
       "      <th>feature74</th>\n",
       "      <th>feature75</th>\n",
       "      <th>feature76</th>\n",
       "      <th>feature77</th>\n",
       "      <th>feature78</th>\n",
       "      <th>feature79</th>\n",
       "      <th>feature80</th>\n",
       "      <th>feature81</th>\n",
       "      <th>critical_temperature</th>\n",
       "    </tr>\n",
       "  </thead>\n",
       "  <tbody>\n",
       "    <tr>\n",
       "      <th>0</th>\n",
       "      <td>4</td>\n",
       "      <td>95.950150</td>\n",
       "      <td>87.221940</td>\n",
       "      <td>89.534122</td>\n",
       "      <td>81.423258</td>\n",
       "      <td>1.317590</td>\n",
       "      <td>1.301059</td>\n",
       "      <td>96.1190</td>\n",
       "      <td>20.285800</td>\n",
       "      <td>36.105357</td>\n",
       "      <td>...</td>\n",
       "      <td>4.10</td>\n",
       "      <td>4.053600</td>\n",
       "      <td>3.944244</td>\n",
       "      <td>1.339718</td>\n",
       "      <td>1.245504</td>\n",
       "      <td>3</td>\n",
       "      <td>1.400000</td>\n",
       "      <td>1.299038</td>\n",
       "      <td>1.135782</td>\n",
       "      <td>21.50</td>\n",
       "    </tr>\n",
       "    <tr>\n",
       "      <th>1</th>\n",
       "      <td>5</td>\n",
       "      <td>83.244760</td>\n",
       "      <td>59.224400</td>\n",
       "      <td>59.506081</td>\n",
       "      <td>36.126175</td>\n",
       "      <td>1.311510</td>\n",
       "      <td>1.372050</td>\n",
       "      <td>192.9810</td>\n",
       "      <td>25.192187</td>\n",
       "      <td>67.233835</td>\n",
       "      <td>...</td>\n",
       "      <td>2.40</td>\n",
       "      <td>2.402249</td>\n",
       "      <td>2.259897</td>\n",
       "      <td>1.519383</td>\n",
       "      <td>1.365077</td>\n",
       "      <td>3</td>\n",
       "      <td>0.933333</td>\n",
       "      <td>1.200000</td>\n",
       "      <td>1.019804</td>\n",
       "      <td>62.00</td>\n",
       "    </tr>\n",
       "    <tr>\n",
       "      <th>2</th>\n",
       "      <td>2</td>\n",
       "      <td>23.035850</td>\n",
       "      <td>26.647510</td>\n",
       "      <td>21.192566</td>\n",
       "      <td>25.010514</td>\n",
       "      <td>0.614232</td>\n",
       "      <td>0.435817</td>\n",
       "      <td>18.0583</td>\n",
       "      <td>18.243490</td>\n",
       "      <td>9.029150</td>\n",
       "      <td>...</td>\n",
       "      <td>5.10</td>\n",
       "      <td>4.242641</td>\n",
       "      <td>4.873514</td>\n",
       "      <td>0.636514</td>\n",
       "      <td>0.465999</td>\n",
       "      <td>3</td>\n",
       "      <td>3.300000</td>\n",
       "      <td>1.500000</td>\n",
       "      <td>1.374773</td>\n",
       "      <td>0.29</td>\n",
       "    </tr>\n",
       "    <tr>\n",
       "      <th>3</th>\n",
       "      <td>4</td>\n",
       "      <td>81.756699</td>\n",
       "      <td>79.833804</td>\n",
       "      <td>76.282833</td>\n",
       "      <td>75.275775</td>\n",
       "      <td>1.312596</td>\n",
       "      <td>1.149324</td>\n",
       "      <td>81.4820</td>\n",
       "      <td>28.789976</td>\n",
       "      <td>32.890369</td>\n",
       "      <td>...</td>\n",
       "      <td>3.62</td>\n",
       "      <td>3.309751</td>\n",
       "      <td>3.413039</td>\n",
       "      <td>1.333736</td>\n",
       "      <td>1.019322</td>\n",
       "      <td>3</td>\n",
       "      <td>1.920000</td>\n",
       "      <td>1.118034</td>\n",
       "      <td>1.198165</td>\n",
       "      <td>19.50</td>\n",
       "    </tr>\n",
       "    <tr>\n",
       "      <th>4</th>\n",
       "      <td>2</td>\n",
       "      <td>67.485250</td>\n",
       "      <td>69.699016</td>\n",
       "      <td>57.442709</td>\n",
       "      <td>59.574464</td>\n",
       "      <td>0.548263</td>\n",
       "      <td>0.521345</td>\n",
       "      <td>70.8405</td>\n",
       "      <td>39.638078</td>\n",
       "      <td>35.420250</td>\n",
       "      <td>...</td>\n",
       "      <td>6.00</td>\n",
       "      <td>6.000000</td>\n",
       "      <td>6.000000</td>\n",
       "      <td>0.693147</td>\n",
       "      <td>0.691193</td>\n",
       "      <td>0</td>\n",
       "      <td>0.375000</td>\n",
       "      <td>0.000000</td>\n",
       "      <td>0.000000</td>\n",
       "      <td>5.36</td>\n",
       "    </tr>\n",
       "  </tbody>\n",
       "</table>\n",
       "<p>5 rows × 82 columns</p>\n",
       "</div>"
      ],
      "text/plain": [
       "   feature1   feature2   feature3   feature4   feature5  feature6  feature7  \\\n",
       "0         4  95.950150  87.221940  89.534122  81.423258  1.317590  1.301059   \n",
       "1         5  83.244760  59.224400  59.506081  36.126175  1.311510  1.372050   \n",
       "2         2  23.035850  26.647510  21.192566  25.010514  0.614232  0.435817   \n",
       "3         4  81.756699  79.833804  76.282833  75.275775  1.312596  1.149324   \n",
       "4         2  67.485250  69.699016  57.442709  59.574464  0.548263  0.521345   \n",
       "\n",
       "   feature8   feature9  feature10  ...  feature73  feature74  feature75  \\\n",
       "0   96.1190  20.285800  36.105357  ...       4.10   4.053600   3.944244   \n",
       "1  192.9810  25.192187  67.233835  ...       2.40   2.402249   2.259897   \n",
       "2   18.0583  18.243490   9.029150  ...       5.10   4.242641   4.873514   \n",
       "3   81.4820  28.789976  32.890369  ...       3.62   3.309751   3.413039   \n",
       "4   70.8405  39.638078  35.420250  ...       6.00   6.000000   6.000000   \n",
       "\n",
       "   feature76  feature77  feature78  feature79  feature80  feature81  \\\n",
       "0   1.339718   1.245504          3   1.400000   1.299038   1.135782   \n",
       "1   1.519383   1.365077          3   0.933333   1.200000   1.019804   \n",
       "2   0.636514   0.465999          3   3.300000   1.500000   1.374773   \n",
       "3   1.333736   1.019322          3   1.920000   1.118034   1.198165   \n",
       "4   0.693147   0.691193          0   0.375000   0.000000   0.000000   \n",
       "\n",
       "   critical_temperature  \n",
       "0                 21.50  \n",
       "1                 62.00  \n",
       "2                  0.29  \n",
       "3                 19.50  \n",
       "4                  5.36  \n",
       "\n",
       "[5 rows x 82 columns]"
      ]
     },
     "execution_count": 48,
     "metadata": {},
     "output_type": "execute_result"
    }
   ],
   "source": [
    "train.head()"
   ]
  },
  {
   "cell_type": "code",
   "execution_count": 7,
   "metadata": {},
   "outputs": [],
   "source": [
    "formula = f_train.material"
   ]
  },
  {
   "cell_type": "code",
   "execution_count": 6,
   "metadata": {},
   "outputs": [],
   "source": [
    "f_train = f_train.drop(columns='material')"
   ]
  },
  {
   "cell_type": "code",
   "execution_count": 7,
   "metadata": {},
   "outputs": [],
   "source": [
    "y = train.critical_temperature"
   ]
  },
  {
   "cell_type": "code",
   "execution_count": 8,
   "metadata": {},
   "outputs": [],
   "source": [
    "train = train.drop(columns='critical_temperature')"
   ]
  },
  {
   "cell_type": "code",
   "execution_count": 11,
   "metadata": {},
   "outputs": [],
   "source": [
    "sns.set(rc={'figure.figsize': (12,9)})"
   ]
  },
  {
   "cell_type": "code",
   "execution_count": 12,
   "metadata": {},
   "outputs": [
    {
     "data": {
      "text/plain": [
       "<matplotlib.axes._subplots.AxesSubplot at 0x2103a69c2b0>"
      ]
     },
     "execution_count": 12,
     "metadata": {},
     "output_type": "execute_result"
    },
    {
     "data": {
      "image/png": "[encoded data removed]",
      "text/plain": [
       "<Figure size 864x648 with 2 Axes>"
      ]
     },
     "metadata": {},
     "output_type": "display_data"
    }
   ],
   "source": [
    "sns.heatmap(train.corr())"
   ]
  },
  {
   "cell_type": "code",
   "execution_count": 4,
   "metadata": {
    "scrolled": true
   },
   "outputs": [],
   "source": [
    "correl = train.corr()"
   ]
  },
  {
   "cell_type": "code",
   "execution_count": 5,
   "metadata": {},
   "outputs": [
    {
     "data": {
      "text/plain": [
       "7.528777151868301"
      ]
     },
     "execution_count": 5,
     "metadata": {},
     "output_type": "execute_result"
    }
   ],
   "source": [
    "correl.critical_temperature.sum()"
   ]
  },
  {
   "cell_type": "code",
   "execution_count": 58,
   "metadata": {},
   "outputs": [],
   "source": [
    "corr_list = []"
   ]
  },
  {
   "cell_type": "code",
   "execution_count": 13,
   "metadata": {},
   "outputs": [],
   "source": [
    "train = train.drop(columns={'feature1', 'feature6', 'feature16', \n",
    "                            'feature26', 'feature56', 'feature76',\n",
    "                           'feature2', 'feature3','feature27',\n",
    "                           'feature77', 'feature10', 'feature11',\n",
    "                           'feature14', 'feature15', 'feature18',\n",
    "                           'feature20', 'feature21', 'feature22',\n",
    "                           'feature23', 'feature30', 'feature31',\n",
    "                           'feature33', 'feature35', 'feature40',\n",
    "                           'feature41', 'feature50', 'feature52',\n",
    "                           'feature53', 'feature58', 'feature61',\n",
    "                           'feature68', 'feature70', 'feature72',\n",
    "                           'feature74', 'feature75','feature78'})"
   ]
  },
  {
   "cell_type": "code",
   "execution_count": null,
   "metadata": {},
   "outputs": [],
   "source": []
  },
  {
   "cell_type": "code",
   "execution_count": 14,
   "metadata": {},
   "outputs": [
    {
     "data": {
      "text/html": [
       "<div>\n",
       "<style scoped>\n",
       "    .dataframe tbody tr th:only-of-type {\n",
       "        vertical-align: middle;\n",
       "    }\n",
       "\n",
       "    .dataframe tbody tr th {\n",
       "        vertical-align: top;\n",
       "    }\n",
       "\n",
       "    .dataframe thead th {\n",
       "        text-align: right;\n",
       "    }\n",
       "</style>\n",
       "<table border=\"1\" class=\"dataframe\">\n",
       "  <thead>\n",
       "    <tr style=\"text-align: right;\">\n",
       "      <th></th>\n",
       "      <th>feature4</th>\n",
       "      <th>feature5</th>\n",
       "      <th>feature7</th>\n",
       "      <th>feature8</th>\n",
       "      <th>feature9</th>\n",
       "      <th>feature12</th>\n",
       "      <th>feature13</th>\n",
       "      <th>feature17</th>\n",
       "      <th>feature19</th>\n",
       "      <th>feature24</th>\n",
       "      <th>...</th>\n",
       "      <th>feature64</th>\n",
       "      <th>feature65</th>\n",
       "      <th>feature66</th>\n",
       "      <th>feature67</th>\n",
       "      <th>feature69</th>\n",
       "      <th>feature71</th>\n",
       "      <th>feature73</th>\n",
       "      <th>feature79</th>\n",
       "      <th>feature80</th>\n",
       "      <th>feature81</th>\n",
       "    </tr>\n",
       "  </thead>\n",
       "  <tbody>\n",
       "    <tr>\n",
       "      <th>0</th>\n",
       "      <td>89.534122</td>\n",
       "      <td>81.423258</td>\n",
       "      <td>1.301059</td>\n",
       "      <td>96.1190</td>\n",
       "      <td>20.285800</td>\n",
       "      <td>740.625</td>\n",
       "      <td>786.620000</td>\n",
       "      <td>1.202333</td>\n",
       "      <td>307.450000</td>\n",
       "      <td>164.442987</td>\n",
       "      <td>...</td>\n",
       "      <td>50.754738</td>\n",
       "      <td>48.531069</td>\n",
       "      <td>1.191039</td>\n",
       "      <td>1.203416</td>\n",
       "      <td>20.900000</td>\n",
       "      <td>30.483602</td>\n",
       "      <td>4.10</td>\n",
       "      <td>1.400000</td>\n",
       "      <td>1.299038</td>\n",
       "      <td>1.135782</td>\n",
       "    </tr>\n",
       "    <tr>\n",
       "      <th>1</th>\n",
       "      <td>59.506081</td>\n",
       "      <td>36.126175</td>\n",
       "      <td>1.372050</td>\n",
       "      <td>192.9810</td>\n",
       "      <td>25.192187</td>\n",
       "      <td>779.880</td>\n",
       "      <td>1005.866667</td>\n",
       "      <td>1.019202</td>\n",
       "      <td>661.026667</td>\n",
       "      <td>133.425311</td>\n",
       "      <td>...</td>\n",
       "      <td>14.287643</td>\n",
       "      <td>0.969156</td>\n",
       "      <td>0.871976</td>\n",
       "      <td>0.777323</td>\n",
       "      <td>53.319157</td>\n",
       "      <td>137.579265</td>\n",
       "      <td>2.40</td>\n",
       "      <td>0.933333</td>\n",
       "      <td>1.200000</td>\n",
       "      <td>1.019804</td>\n",
       "    </tr>\n",
       "    <tr>\n",
       "      <th>2</th>\n",
       "      <td>21.192566</td>\n",
       "      <td>25.010514</td>\n",
       "      <td>0.435817</td>\n",
       "      <td>18.0583</td>\n",
       "      <td>18.243490</td>\n",
       "      <td>1200.250</td>\n",
       "      <td>1119.750000</td>\n",
       "      <td>0.661811</td>\n",
       "      <td>278.850000</td>\n",
       "      <td>69.799713</td>\n",
       "      <td>...</td>\n",
       "      <td>0.072768</td>\n",
       "      <td>0.110120</td>\n",
       "      <td>0.350471</td>\n",
       "      <td>0.202131</td>\n",
       "      <td>0.135751</td>\n",
       "      <td>0.082106</td>\n",
       "      <td>5.10</td>\n",
       "      <td>3.300000</td>\n",
       "      <td>1.500000</td>\n",
       "      <td>1.374773</td>\n",
       "    </tr>\n",
       "    <tr>\n",
       "      <th>3</th>\n",
       "      <td>76.282833</td>\n",
       "      <td>75.275775</td>\n",
       "      <td>1.149324</td>\n",
       "      <td>81.4820</td>\n",
       "      <td>28.789976</td>\n",
       "      <td>741.475</td>\n",
       "      <td>782.600000</td>\n",
       "      <td>1.059188</td>\n",
       "      <td>363.318000</td>\n",
       "      <td>161.714287</td>\n",
       "      <td>...</td>\n",
       "      <td>51.637761</td>\n",
       "      <td>49.174596</td>\n",
       "      <td>1.244889</td>\n",
       "      <td>0.997395</td>\n",
       "      <td>28.020000</td>\n",
       "      <td>23.297974</td>\n",
       "      <td>3.62</td>\n",
       "      <td>1.920000</td>\n",
       "      <td>1.118034</td>\n",
       "      <td>1.198165</td>\n",
       "    </tr>\n",
       "    <tr>\n",
       "      <th>4</th>\n",
       "      <td>57.442709</td>\n",
       "      <td>59.574464</td>\n",
       "      <td>0.521345</td>\n",
       "      <td>70.8405</td>\n",
       "      <td>39.638078</td>\n",
       "      <td>859.250</td>\n",
       "      <td>850.515625</td>\n",
       "      <td>0.688021</td>\n",
       "      <td>86.046875</td>\n",
       "      <td>122.682517</td>\n",
       "      <td>...</td>\n",
       "      <td>5.545268</td>\n",
       "      <td>6.814486</td>\n",
       "      <td>0.010367</td>\n",
       "      <td>0.009300</td>\n",
       "      <td>79.591406</td>\n",
       "      <td>74.751073</td>\n",
       "      <td>6.00</td>\n",
       "      <td>0.375000</td>\n",
       "      <td>0.000000</td>\n",
       "      <td>0.000000</td>\n",
       "    </tr>\n",
       "  </tbody>\n",
       "</table>\n",
       "<p>5 rows × 45 columns</p>\n",
       "</div>"
      ],
      "text/plain": [
       "    feature4   feature5  feature7  feature8   feature9  feature12  \\\n",
       "0  89.534122  81.423258  1.301059   96.1190  20.285800    740.625   \n",
       "1  59.506081  36.126175  1.372050  192.9810  25.192187    779.880   \n",
       "2  21.192566  25.010514  0.435817   18.0583  18.243490   1200.250   \n",
       "3  76.282833  75.275775  1.149324   81.4820  28.789976    741.475   \n",
       "4  57.442709  59.574464  0.521345   70.8405  39.638078    859.250   \n",
       "\n",
       "     feature13  feature17   feature19   feature24  ...  feature64  feature65  \\\n",
       "0   786.620000   1.202333  307.450000  164.442987  ...  50.754738  48.531069   \n",
       "1  1005.866667   1.019202  661.026667  133.425311  ...  14.287643   0.969156   \n",
       "2  1119.750000   0.661811  278.850000   69.799713  ...   0.072768   0.110120   \n",
       "3   782.600000   1.059188  363.318000  161.714287  ...  51.637761  49.174596   \n",
       "4   850.515625   0.688021   86.046875  122.682517  ...   5.545268   6.814486   \n",
       "\n",
       "   feature66  feature67  feature69   feature71  feature73  feature79  \\\n",
       "0   1.191039   1.203416  20.900000   30.483602       4.10   1.400000   \n",
       "1   0.871976   0.777323  53.319157  137.579265       2.40   0.933333   \n",
       "2   0.350471   0.202131   0.135751    0.082106       5.10   3.300000   \n",
       "3   1.244889   0.997395  28.020000   23.297974       3.62   1.920000   \n",
       "4   0.010367   0.009300  79.591406   74.751073       6.00   0.375000   \n",
       "\n",
       "   feature80  feature81  \n",
       "0   1.299038   1.135782  \n",
       "1   1.200000   1.019804  \n",
       "2   1.500000   1.374773  \n",
       "3   1.118034   1.198165  \n",
       "4   0.000000   0.000000  \n",
       "\n",
       "[5 rows x 45 columns]"
      ]
     },
     "execution_count": 14,
     "metadata": {},
     "output_type": "execute_result"
    }
   ],
   "source": [
    "train.head()"
   ]
  },
  {
   "cell_type": "code",
   "execution_count": 15,
   "metadata": {},
   "outputs": [],
   "source": [
    "X = train.merge(f_train, left_index=True, right_index=True)"
   ]
  },
  {
   "cell_type": "code",
   "execution_count": 46,
   "metadata": {},
   "outputs": [
    {
     "data": {
      "text/html": [
       "<div>\n",
       "<style scoped>\n",
       "    .dataframe tbody tr th:only-of-type {\n",
       "        vertical-align: middle;\n",
       "    }\n",
       "\n",
       "    .dataframe tbody tr th {\n",
       "        vertical-align: top;\n",
       "    }\n",
       "\n",
       "    .dataframe thead th {\n",
       "        text-align: right;\n",
       "    }\n",
       "</style>\n",
       "<table border=\"1\" class=\"dataframe\">\n",
       "  <thead>\n",
       "    <tr style=\"text-align: right;\">\n",
       "      <th></th>\n",
       "      <th>feature4</th>\n",
       "      <th>feature5</th>\n",
       "      <th>feature7</th>\n",
       "      <th>feature8</th>\n",
       "      <th>feature9</th>\n",
       "      <th>feature12</th>\n",
       "      <th>feature13</th>\n",
       "      <th>feature17</th>\n",
       "      <th>feature19</th>\n",
       "      <th>feature24</th>\n",
       "      <th>...</th>\n",
       "      <th>Ir</th>\n",
       "      <th>Pt</th>\n",
       "      <th>Au</th>\n",
       "      <th>Hg</th>\n",
       "      <th>Tl</th>\n",
       "      <th>Pb</th>\n",
       "      <th>Bi</th>\n",
       "      <th>Po</th>\n",
       "      <th>At</th>\n",
       "      <th>Rn</th>\n",
       "    </tr>\n",
       "  </thead>\n",
       "  <tbody>\n",
       "    <tr>\n",
       "      <th>0</th>\n",
       "      <td>89.534122</td>\n",
       "      <td>81.423258</td>\n",
       "      <td>1.301059</td>\n",
       "      <td>96.1190</td>\n",
       "      <td>20.285800</td>\n",
       "      <td>740.625</td>\n",
       "      <td>786.620000</td>\n",
       "      <td>1.202333</td>\n",
       "      <td>307.450000</td>\n",
       "      <td>164.442987</td>\n",
       "      <td>...</td>\n",
       "      <td>0.0</td>\n",
       "      <td>0.0</td>\n",
       "      <td>0.0</td>\n",
       "      <td>0.0</td>\n",
       "      <td>0.0</td>\n",
       "      <td>0.0</td>\n",
       "      <td>0.0</td>\n",
       "      <td>0</td>\n",
       "      <td>0</td>\n",
       "      <td>0</td>\n",
       "    </tr>\n",
       "    <tr>\n",
       "      <th>1</th>\n",
       "      <td>59.506081</td>\n",
       "      <td>36.126175</td>\n",
       "      <td>1.372050</td>\n",
       "      <td>192.9810</td>\n",
       "      <td>25.192187</td>\n",
       "      <td>779.880</td>\n",
       "      <td>1005.866667</td>\n",
       "      <td>1.019202</td>\n",
       "      <td>661.026667</td>\n",
       "      <td>133.425311</td>\n",
       "      <td>...</td>\n",
       "      <td>0.0</td>\n",
       "      <td>0.0</td>\n",
       "      <td>0.0</td>\n",
       "      <td>0.0</td>\n",
       "      <td>0.0</td>\n",
       "      <td>0.0</td>\n",
       "      <td>2.0</td>\n",
       "      <td>0</td>\n",
       "      <td>0</td>\n",
       "      <td>0</td>\n",
       "    </tr>\n",
       "    <tr>\n",
       "      <th>2</th>\n",
       "      <td>21.192566</td>\n",
       "      <td>25.010514</td>\n",
       "      <td>0.435817</td>\n",
       "      <td>18.0583</td>\n",
       "      <td>18.243490</td>\n",
       "      <td>1200.250</td>\n",
       "      <td>1119.750000</td>\n",
       "      <td>0.661811</td>\n",
       "      <td>278.850000</td>\n",
       "      <td>69.799713</td>\n",
       "      <td>...</td>\n",
       "      <td>0.0</td>\n",
       "      <td>0.0</td>\n",
       "      <td>0.0</td>\n",
       "      <td>0.0</td>\n",
       "      <td>0.0</td>\n",
       "      <td>0.0</td>\n",
       "      <td>0.0</td>\n",
       "      <td>0</td>\n",
       "      <td>0</td>\n",
       "      <td>0</td>\n",
       "    </tr>\n",
       "    <tr>\n",
       "      <th>3</th>\n",
       "      <td>76.282833</td>\n",
       "      <td>75.275775</td>\n",
       "      <td>1.149324</td>\n",
       "      <td>81.4820</td>\n",
       "      <td>28.789976</td>\n",
       "      <td>741.475</td>\n",
       "      <td>782.600000</td>\n",
       "      <td>1.059188</td>\n",
       "      <td>363.318000</td>\n",
       "      <td>161.714287</td>\n",
       "      <td>...</td>\n",
       "      <td>0.0</td>\n",
       "      <td>0.0</td>\n",
       "      <td>0.0</td>\n",
       "      <td>0.0</td>\n",
       "      <td>0.0</td>\n",
       "      <td>0.0</td>\n",
       "      <td>0.0</td>\n",
       "      <td>0</td>\n",
       "      <td>0</td>\n",
       "      <td>0</td>\n",
       "    </tr>\n",
       "    <tr>\n",
       "      <th>4</th>\n",
       "      <td>57.442709</td>\n",
       "      <td>59.574464</td>\n",
       "      <td>0.521345</td>\n",
       "      <td>70.8405</td>\n",
       "      <td>39.638078</td>\n",
       "      <td>859.250</td>\n",
       "      <td>850.515625</td>\n",
       "      <td>0.688021</td>\n",
       "      <td>86.046875</td>\n",
       "      <td>122.682517</td>\n",
       "      <td>...</td>\n",
       "      <td>0.0</td>\n",
       "      <td>0.0</td>\n",
       "      <td>0.0</td>\n",
       "      <td>0.0</td>\n",
       "      <td>0.0</td>\n",
       "      <td>0.0</td>\n",
       "      <td>0.0</td>\n",
       "      <td>0</td>\n",
       "      <td>0</td>\n",
       "      <td>0</td>\n",
       "    </tr>\n",
       "  </tbody>\n",
       "</table>\n",
       "<p>5 rows × 131 columns</p>\n",
       "</div>"
      ],
      "text/plain": [
       "    feature4   feature5  feature7  feature8   feature9  feature12  \\\n",
       "0  89.534122  81.423258  1.301059   96.1190  20.285800    740.625   \n",
       "1  59.506081  36.126175  1.372050  192.9810  25.192187    779.880   \n",
       "2  21.192566  25.010514  0.435817   18.0583  18.243490   1200.250   \n",
       "3  76.282833  75.275775  1.149324   81.4820  28.789976    741.475   \n",
       "4  57.442709  59.574464  0.521345   70.8405  39.638078    859.250   \n",
       "\n",
       "     feature13  feature17   feature19   feature24  ...   Ir   Pt   Au   Hg  \\\n",
       "0   786.620000   1.202333  307.450000  164.442987  ...  0.0  0.0  0.0  0.0   \n",
       "1  1005.866667   1.019202  661.026667  133.425311  ...  0.0  0.0  0.0  0.0   \n",
       "2  1119.750000   0.661811  278.850000   69.799713  ...  0.0  0.0  0.0  0.0   \n",
       "3   782.600000   1.059188  363.318000  161.714287  ...  0.0  0.0  0.0  0.0   \n",
       "4   850.515625   0.688021   86.046875  122.682517  ...  0.0  0.0  0.0  0.0   \n",
       "\n",
       "    Tl   Pb   Bi  Po  At  Rn  \n",
       "0  0.0  0.0  0.0   0   0   0  \n",
       "1  0.0  0.0  2.0   0   0   0  \n",
       "2  0.0  0.0  0.0   0   0   0  \n",
       "3  0.0  0.0  0.0   0   0   0  \n",
       "4  0.0  0.0  0.0   0   0   0  \n",
       "\n",
       "[5 rows x 131 columns]"
      ]
     },
     "execution_count": 46,
     "metadata": {},
     "output_type": "execute_result"
    }
   ],
   "source": [
    "X.head()"
   ]
  },
  {
   "cell_type": "code",
   "execution_count": 16,
   "metadata": {},
   "outputs": [],
   "source": [
    "models = [LinearRegression(), # метод наименьших квадратов\n",
    "\t          RandomForestRegressor(n_estimators=100, max_features ='sqrt'), # случайный лес\n",
    "\t          KNeighborsRegressor(n_neighbors=6), # метод ближайших соседей\n",
    "\t          SVR(kernel='linear'), # метод опорных векторов с линейным ядром\n",
    "\t          LogisticRegression() # логистическая регрессия\n",
    "\t          ]"
   ]
  },
  {
   "cell_type": "code",
   "execution_count": 64,
   "metadata": {},
   "outputs": [],
   "source": [
    "logis = LogisticRegression()"
   ]
  },
  {
   "cell_type": "code",
   "execution_count": 22,
   "metadata": {},
   "outputs": [],
   "source": [
    "Xtrn, Xtest, Ytrn, Ytest = train_test_split(X, y, test_size=0.25, random_state = 0)"
   ]
  },
  {
   "cell_type": "code",
   "execution_count": 20,
   "metadata": {},
   "outputs": [],
   "source": [
    "cvl = cross_val_score(models[1], Xtrn, Ytrn, cv= 5, scoring = 'r2')"
   ]
  },
  {
   "cell_type": "code",
   "execution_count": 21,
   "metadata": {},
   "outputs": [
    {
     "data": {
      "text/plain": [
       "array([0.91503343, 0.9172103 , 0.9010534 , 0.91865486, 0.90975349])"
      ]
     },
     "execution_count": 21,
     "metadata": {},
     "output_type": "execute_result"
    }
   ],
   "source": [
    "cvl"
   ]
  },
  {
   "cell_type": "code",
   "execution_count": 24,
   "metadata": {},
   "outputs": [
    {
     "ename": "ModuleNotFoundError",
     "evalue": "No module named 'xgboost'",
     "output_type": "error",
     "traceback": [
      "\u001b[1;31m---------------------------------------------------------------------------\u001b[0m",
      "\u001b[1;31mModuleNotFoundError\u001b[0m                       Traceback (most recent call last)",
      "\u001b[1;32m<ipython-input-24-69c50a278458>\u001b[0m in \u001b[0;36m<module>\u001b[1;34m\u001b[0m\n\u001b[0;32m      1\u001b[0m \u001b[1;31m#градиентный бустинг\u001b[0m\u001b[1;33m\u001b[0m\u001b[1;33m\u001b[0m\u001b[1;33m\u001b[0m\u001b[0m\n\u001b[1;32m----> 2\u001b[1;33m \u001b[1;32mfrom\u001b[0m \u001b[0mxgboost\u001b[0m \u001b[1;32mimport\u001b[0m \u001b[0mXGBRegressor\u001b[0m\u001b[1;33m\u001b[0m\u001b[1;33m\u001b[0m\u001b[0m\n\u001b[0m",
      "\u001b[1;31mModuleNotFoundError\u001b[0m: No module named 'xgboost'"
     ]
    }
   ],
   "source": [
    "#градиентный бустинг\n",
    "from xgboost import XGBRegressor"
   ]
  },
  {
   "cell_type": "code",
   "execution_count": 18,
   "metadata": {},
   "outputs": [
    {
     "data": {
      "text/plain": [
       "0.9148236630896842"
      ]
     },
     "execution_count": 18,
     "metadata": {},
     "output_type": "execute_result"
    }
   ],
   "source": [
    "models[1].fit(Xtrn, Ytrn)\n",
    "r2_score(Ytest, models[1].predict(Xtest))"
   ]
  },
  {
   "cell_type": "code",
   "execution_count": 16,
   "metadata": {},
   "outputs": [],
   "source": [
    "test = pd.read_csv('test.csv')"
   ]
  },
  {
   "cell_type": "code",
   "execution_count": 17,
   "metadata": {},
   "outputs": [],
   "source": [
    "f_test = pd.read_csv('formula_test.csv')"
   ]
  },
  {
   "cell_type": "code",
   "execution_count": 18,
   "metadata": {},
   "outputs": [],
   "source": [
    "f_test = f_test.drop(columns='material')"
   ]
  },
  {
   "cell_type": "code",
   "execution_count": 19,
   "metadata": {},
   "outputs": [],
   "source": [
    "test = test.drop(columns={'feature1', 'feature6', 'feature16', \n",
    "                            'feature26', 'feature56', 'feature76',\n",
    "                           'feature2', 'feature3','feature27',\n",
    "                           'feature77', 'feature10', 'feature11',\n",
    "                           'feature14', 'feature15', 'feature18',\n",
    "                           'feature20', 'feature21', 'feature22',\n",
    "                           'feature23', 'feature30', 'feature31',\n",
    "                           'feature33', 'feature35', 'feature40',\n",
    "                           'feature41', 'feature50', 'feature52',\n",
    "                           'feature53', 'feature58', 'feature61',\n",
    "                           'feature68', 'feature70', 'feature72',\n",
    "                           'feature74', 'feature75','feature78'})"
   ]
  },
  {
   "cell_type": "code",
   "execution_count": 20,
   "metadata": {},
   "outputs": [],
   "source": [
    "X_test = test.merge(f_test, left_index=True, right_index=True)"
   ]
  },
  {
   "cell_type": "code",
   "execution_count": 21,
   "metadata": {},
   "outputs": [],
   "source": [
    "answer = models[1].predict(X_test)"
   ]
  },
  {
   "cell_type": "code",
   "execution_count": 22,
   "metadata": {
    "scrolled": true
   },
   "outputs": [
    {
     "data": {
      "text/plain": [
       "array([57.4663    ,  3.23775   , 17.0822    , ..., 32.53168415,\n",
       "       27.874     ,  6.06238333])"
      ]
     },
     "execution_count": 22,
     "metadata": {},
     "output_type": "execute_result"
    }
   ],
   "source": [
    "answer"
   ]
  },
  {
   "cell_type": "code",
   "execution_count": 26,
   "metadata": {},
   "outputs": [],
   "source": [
    "data = pd.DataFrame(answer)"
   ]
  },
  {
   "cell_type": "code",
   "execution_count": 23,
   "metadata": {},
   "outputs": [],
   "source": [
    "ans = pd.read_csv('answer.csv')"
   ]
  },
  {
   "cell_type": "code",
   "execution_count": 30,
   "metadata": {},
   "outputs": [
    {
     "data": {
      "text/html": [
       "<div>\n",
       "<style scoped>\n",
       "    .dataframe tbody tr th:only-of-type {\n",
       "        vertical-align: middle;\n",
       "    }\n",
       "\n",
       "    .dataframe tbody tr th {\n",
       "        vertical-align: top;\n",
       "    }\n",
       "\n",
       "    .dataframe thead th {\n",
       "        text-align: right;\n",
       "    }\n",
       "</style>\n",
       "<table border=\"1\" class=\"dataframe\">\n",
       "  <thead>\n",
       "    <tr style=\"text-align: right;\">\n",
       "      <th></th>\n",
       "      <th>0</th>\n",
       "    </tr>\n",
       "  </thead>\n",
       "  <tbody>\n",
       "    <tr>\n",
       "      <th>0</th>\n",
       "      <td>57.466300</td>\n",
       "    </tr>\n",
       "    <tr>\n",
       "      <th>1</th>\n",
       "      <td>3.237750</td>\n",
       "    </tr>\n",
       "    <tr>\n",
       "      <th>2</th>\n",
       "      <td>17.082200</td>\n",
       "    </tr>\n",
       "    <tr>\n",
       "      <th>3</th>\n",
       "      <td>85.446167</td>\n",
       "    </tr>\n",
       "    <tr>\n",
       "      <th>4</th>\n",
       "      <td>20.227831</td>\n",
       "    </tr>\n",
       "    <tr>\n",
       "      <th>...</th>\n",
       "      <td>...</td>\n",
       "    </tr>\n",
       "    <tr>\n",
       "      <th>4258</th>\n",
       "      <td>2.103660</td>\n",
       "    </tr>\n",
       "    <tr>\n",
       "      <th>4259</th>\n",
       "      <td>87.469844</td>\n",
       "    </tr>\n",
       "    <tr>\n",
       "      <th>4260</th>\n",
       "      <td>32.531684</td>\n",
       "    </tr>\n",
       "    <tr>\n",
       "      <th>4261</th>\n",
       "      <td>27.874000</td>\n",
       "    </tr>\n",
       "    <tr>\n",
       "      <th>4262</th>\n",
       "      <td>6.062383</td>\n",
       "    </tr>\n",
       "  </tbody>\n",
       "</table>\n",
       "<p>4263 rows × 1 columns</p>\n",
       "</div>"
      ],
      "text/plain": [
       "              0\n",
       "0     57.466300\n",
       "1      3.237750\n",
       "2     17.082200\n",
       "3     85.446167\n",
       "4     20.227831\n",
       "...         ...\n",
       "4258   2.103660\n",
       "4259  87.469844\n",
       "4260  32.531684\n",
       "4261  27.874000\n",
       "4262   6.062383\n",
       "\n",
       "[4263 rows x 1 columns]"
      ]
     },
     "execution_count": 30,
     "metadata": {},
     "output_type": "execute_result"
    }
   ],
   "source": [
    "data"
   ]
  },
  {
   "cell_type": "code",
   "execution_count": 24,
   "metadata": {},
   "outputs": [
    {
     "data": {
      "text/plain": [
       "0.9861027521052316"
      ]
     },
     "execution_count": 24,
     "metadata": {},
     "output_type": "execute_result"
    }
   ],
   "source": [
    "r2_score(ans, models[1].predict(X_test))"
   ]
  },
  {
   "cell_type": "code",
   "execution_count": 28,
   "metadata": {},
   "outputs": [],
   "source": [
    "data.to_csv('answer.csv', index=False, header=None)"
   ]
  },
  {
   "cell_type": "code",
   "execution_count": 32,
   "metadata": {},
   "outputs": [],
   "source": [
    "ans1 = pd.read_csv('answer1.csv')"
   ]
  },
  {
   "cell_type": "code",
   "execution_count": 36,
   "metadata": {},
   "outputs": [],
   "source": [
    "aaa = ans1['0'].values"
   ]
  },
  {
   "cell_type": "code",
   "execution_count": 37,
   "metadata": {},
   "outputs": [],
   "source": [
    "data = pd.DataFrame(aaa)"
   ]
  },
  {
   "cell_type": "code",
   "execution_count": 38,
   "metadata": {},
   "outputs": [],
   "source": [
    "data.to_csv('answer.csv', index=False, header=None)"
   ]
  },
  {
   "cell_type": "code",
   "execution_count": null,
   "metadata": {},
   "outputs": [],
   "source": [
    "pd.read_csv('')"
   ]
  }
 ],
 "metadata": {
  "kernelspec": {
   "display_name": "Python 3",
   "language": "python",
   "name": "python3"
  },
  "language_info": {
   "codemirror_mode": {
    "name": "ipython",
    "version": 3
   },
   "file_extension": ".py",
   "mimetype": "text/x-python",
   "name": "python",
   "nbconvert_exporter": "python",
   "pygments_lexer": "ipython3",
   "version": "3.8.3"
  }
 },
 "nbformat": 4,
 "nbformat_minor": 4
}
